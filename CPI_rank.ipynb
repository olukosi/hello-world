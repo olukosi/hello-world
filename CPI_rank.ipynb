{
  "nbformat": 4,
  "nbformat_minor": 0,
  "metadata": {
    "colab": {
      "name": "CPI_rank.ipynb",
      "provenance": [],
      "authorship_tag": "ABX9TyN+ammp4eSIbVIBVx2TxY1F",
      "include_colab_link": true
    },
    "kernelspec": {
      "name": "python3",
      "display_name": "Python 3"
    },
    "language_info": {
      "name": "python"
    }
  },
  "cells": [
    {
      "cell_type": "markdown",
      "metadata": {
        "id": "view-in-github",
        "colab_type": "text"
      },
      "source": [
        "<a href=\"https://colab.research.google.com/github/olukosioladimeji/ola/blob/master/CPI_rank.ipynb\" target=\"_parent\"><img src=\"https://colab.research.google.com/assets/colab-badge.svg\" alt=\"Open In Colab\"/></a>"
      ]
    },
    {
      "cell_type": "code",
      "metadata": {
        "id": "qGdaGGPrrNbC"
      },
      "source": [
        "import tensorflow as tf\n",
        "import numpy as np"
      ],
      "execution_count": 1,
      "outputs": []
    },
    {
      "cell_type": "code",
      "metadata": {
        "colab": {
          "base_uri": "https://localhost:8080/"
        },
        "id": "J2dEGG-trxBI",
        "outputId": "62b541c8-9ecc-429a-bc24-1002d1918603"
      },
      "source": [
        "year = np.array([2012,2013,2014,2015,2016,2017,2018,2019,2020],dtype=float)\n",
        "cpi_rank = np.array([139,144,136,136,136,148,144,146,149],dtype=float)\n",
        "for i,c in enumerate(year):\n",
        "  print(\"{} year = {} cpi_rank\".format(c,cpi_rank[i]))"
      ],
      "execution_count": 3,
      "outputs": [
        {
          "output_type": "stream",
          "name": "stdout",
          "text": [
            "2012.0 year = 139.0 cpi_rank\n",
            "2013.0 year = 144.0 cpi_rank\n",
            "2014.0 year = 136.0 cpi_rank\n",
            "2015.0 year = 136.0 cpi_rank\n",
            "2016.0 year = 136.0 cpi_rank\n",
            "2017.0 year = 148.0 cpi_rank\n",
            "2018.0 year = 144.0 cpi_rank\n",
            "2019.0 year = 146.0 cpi_rank\n",
            "2020.0 year = 149.0 cpi_rank\n"
          ]
        }
      ]
    },
    {
      "cell_type": "code",
      "metadata": {
        "id": "GLycKoRxrz93"
      },
      "source": [
        "l0 = tf.keras.layers.Dense(units=1,input_shape=[1])"
      ],
      "execution_count": 4,
      "outputs": []
    },
    {
      "cell_type": "code",
      "metadata": {
        "id": "0F8kFmBhr7kj"
      },
      "source": [
        "model=tf.keras.Sequential([l0])"
      ],
      "execution_count": 5,
      "outputs": []
    },
    {
      "cell_type": "code",
      "metadata": {
        "id": "lCo2OdUkr_pk"
      },
      "source": [
        "model.compile(loss='mean_squared_error',optimizer=tf.keras.optimizers.Adam(0.1))"
      ],
      "execution_count": 6,
      "outputs": []
    },
    {
      "cell_type": "code",
      "metadata": {
        "colab": {
          "base_uri": "https://localhost:8080/"
        },
        "id": "DEKQ081hsH1U",
        "outputId": "c45f31b2-d008-41a0-aa81-8ccb066cb777"
      },
      "source": [
        "history = model.fit(year,cpi_rank,epochs=500,verbose=False)\n",
        "print(\"we are done training our model\")"
      ],
      "execution_count": 8,
      "outputs": [
        {
          "output_type": "stream",
          "name": "stdout",
          "text": [
            "we are done training our model\n"
          ]
        }
      ]
    },
    {
      "cell_type": "code",
      "metadata": {
        "colab": {
          "base_uri": "https://localhost:8080/",
          "height": 307
        },
        "id": "Na0ZWsDtsJIx",
        "outputId": "bd5cff0d-594f-403e-f96a-734f33effe9c"
      },
      "source": [
        "import matplotlib.pyplot as plt\n",
        "plt.xlabel('Epoch Number')\n",
        "plt.ylabel('Loss Magnitude')\n",
        "plt.plot(history.history['loss'])"
      ],
      "execution_count": 9,
      "outputs": [
        {
          "output_type": "execute_result",
          "data": {
            "text/plain": [
              "[<matplotlib.lines.Line2D at 0x7f612d61e250>]"
            ]
          },
          "metadata": {},
          "execution_count": 9
        },
        {
          "output_type": "display_data",
          "data": {
            "image/png": "[encoded data removed]",
            "text/plain": [
              "<Figure size 432x288 with 1 Axes>"
            ]
          },
          "metadata": {
            "needs_background": "light"
          }
        }
      ]
    },
    {
      "cell_type": "code",
      "metadata": {
        "colab": {
          "base_uri": "https://localhost:8080/"
        },
        "id": "VVcaxmhbsTFi",
        "outputId": "6952df1d-c168-4db7-f05b-0c77cbfb8ddb"
      },
      "source": [
        "print(model.predict([2021]))"
      ],
      "execution_count": 10,
      "outputs": [
        {
          "output_type": "stream",
          "name": "stdout",
          "text": [
            "[[142.35968]]\n"
          ]
        }
      ]
    }
  ]
}