{
  "nbformat": 4,
  "nbformat_minor": 0,
  "metadata": {
    "colab": {
      "name": "% production for 10,000 laying birds at C.N.S.S farms",
      "version": "0.3.2",
      "provenance": [],
      "include_colab_link": true
    },
    "kernelspec": {
      "name": "python3",
      "display_name": "Python 3"
    }
  },
  "cells": [
    {
      "cell_type": "markdown",
      "metadata": {
        "id": "view-in-github",
        "colab_type": "text"
      },
      "source": [
        "<a href=\"https://colab.research.google.com/github/olukosi/hello-world/blob/master/_production_for_10%2C000_laying_birds_at_C_N_S_S_farms.ipynb\" target=\"_parent\"><img src=\"https://colab.research.google.com/assets/colab-badge.svg\" alt=\"Open In Colab\"/></a>"
      ]
    },
    {
      "cell_type": "code",
      "metadata": {
        "id": "SkPbmhrZg-O5",
        "colab_type": "code",
        "colab": {}
      },
      "source": [
        "# we import dependencies\n",
        "from __future__ import absolute_import, division, print_function\n",
        "import tensorflow as tf\n",
        "tf.logging.set_verbosity(tf.logging.ERROR)\n",
        "\n",
        "import numpy as np\n"
      ],
      "execution_count": 0,
      "outputs": []
    },
    {
      "cell_type": "code",
      "metadata": {
        "id": "ZeB8IBoIhKNG",
        "colab_type": "code",
        "outputId": "68eca88d-39fe-45ff-db9d-d885063f81b1",
        "colab": {
          "base_uri": "https://localhost:8080/",
          "height": 151
        }
      },
      "source": [
        "# its important to note that the we are dealing with a regression problem\n",
        "num_eggs = np.array([8233,8500,8678,8771,8776,8802,8555,9001],dtype=float)\n",
        "percentage_production = np.array([82.33,85.0,86.78,87.71,87.76,88.02,85.55,90.01],dtype=float)\n",
        "for i,c in enumerate(num_eggs):\n",
        "  print(\"{} num_eggs = {} percentage_production\".format(c,percentage_production[i]))"
      ],
      "execution_count": 0,
      "outputs": [
        {
          "output_type": "stream",
          "text": [
            "8233.0 num_eggs = 82.33 percentage_production\n",
            "8500.0 num_eggs = 85.0 percentage_production\n",
            "8678.0 num_eggs = 86.78 percentage_production\n",
            "8771.0 num_eggs = 87.71 percentage_production\n",
            "8776.0 num_eggs = 87.76 percentage_production\n",
            "8802.0 num_eggs = 88.02 percentage_production\n",
            "8555.0 num_eggs = 85.55 percentage_production\n",
            "9001.0 num_eggs = 90.01 percentage_production\n"
          ],
          "name": "stdout"
        }
      ]
    },
    {
      "cell_type": "code",
      "metadata": {
        "id": "ck9DCTDrjTDg",
        "colab_type": "code",
        "colab": {}
      },
      "source": [
        "# we have a single layer with a single neuron here so we create our model\n",
        "l0 = tf.keras.layers.Dense(units=1,input_shape=[1])"
      ],
      "execution_count": 0,
      "outputs": []
    },
    {
      "cell_type": "code",
      "metadata": {
        "id": "Shh2d77-jqQU",
        "colab_type": "code",
        "colab": {}
      },
      "source": [
        "# we assemble the layer into our model\n",
        "model= tf.keras.Sequential([l0])"
      ],
      "execution_count": 0,
      "outputs": []
    },
    {
      "cell_type": "code",
      "metadata": {
        "id": "ovPkbZ3MkRIL",
        "colab_type": "code",
        "colab": {}
      },
      "source": [
        "# we compile our model here\n",
        "model.compile(loss='mean_squared_error',optimizer=tf.keras.optimizers.Adam(0.1))"
      ],
      "execution_count": 0,
      "outputs": []
    },
    {
      "cell_type": "code",
      "metadata": {
        "id": "X51fhnC7lI7A",
        "colab_type": "code",
        "outputId": "9d2b3b38-e06b-4387-c7a5-40781a2ff56f",
        "colab": {
          "base_uri": "https://localhost:8080/",
          "height": 34
        }
      },
      "source": [
        " # we train our model with 4000 examples(8pairs and over 500 epochs) \n",
        "history = model.fit(num_eggs,percentage_production,epochs=500,verbose=False)\n",
        "print(\"we are done training our model\")"
      ],
      "execution_count": 0,
      "outputs": [
        {
          "output_type": "stream",
          "text": [
            "we are done training our model\n"
          ],
          "name": "stdout"
        }
      ]
    },
    {
      "cell_type": "code",
      "metadata": {
        "id": "a-Amq4Balk_l",
        "colab_type": "code",
        "outputId": "5dc7285a-5c2b-4aaf-fb86-87d16ef1d4f4",
        "colab": {
          "base_uri": "https://localhost:8080/",
          "height": 306
        }
      },
      "source": [
        "import matplotlib.pyplot as plt\n",
        "plt.xlabel('Epoch Number')\n",
        "plt.ylabel('Loss Magnitude')\n",
        "plt.plot(history.history['loss'])"
      ],
      "execution_count": 0,
      "outputs": [
        {
          "output_type": "execute_result",
          "data": {
            "text/plain": [
              "[<matplotlib.lines.Line2D at 0x7fe922adcf28>]"
            ]
          },
          "metadata": {
            "tags": []
          },
          "execution_count": 9
        },
        {
          "output_type": "display_data",
          "data": {
            "image/png": "[encoded data removed]",
            "text/plain": [
              "<Figure size 432x288 with 1 Axes>"
            ]
          },
          "metadata": {
            "tags": []
          }
        }
      ]
    },
    {
      "cell_type": "code",
      "metadata": {
        "id": "jTYIHklPrLkE",
        "colab_type": "code",
        "outputId": "03b43b96-ecae-4f0a-9e36-b3fa48410a93",
        "colab": {
          "base_uri": "https://localhost:8080/",
          "height": 34
        }
      },
      "source": [
        "print(model.predict([9200]))"
      ],
      "execution_count": 0,
      "outputs": [
        {
          "output_type": "stream",
          "text": [
            "[[92.01082]]\n"
          ],
          "name": "stdout"
        }
      ]
    }
  ]
}