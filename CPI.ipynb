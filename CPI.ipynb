{
  "nbformat": 4,
  "nbformat_minor": 0,
  "metadata": {
    "colab": {
      "name": "CPI.ipynb",
      "provenance": [],
      "collapsed_sections": [],
      "include_colab_link": true
    },
    "kernelspec": {
      "name": "python3",
      "display_name": "Python 3"
    }
  },
  "cells": [
    {
      "cell_type": "markdown",
      "metadata": {
        "id": "view-in-github",
        "colab_type": "text"
      },
      "source": [
        "<a href=\"https://colab.research.google.com/github/olukosioladimeji/ola/blob/master/CPI.ipynb\" target=\"_parent\"><img src=\"https://colab.research.google.com/assets/colab-badge.svg\" alt=\"Open In Colab\"/></a>"
      ]
    },
    {
      "cell_type": "code",
      "metadata": {
        "id": "cPJRdnAqz1JU"
      },
      "source": [
        "import tensorflow as tf\n",
        "import numpy as np"
      ],
      "execution_count": 2,
      "outputs": []
    },
    {
      "cell_type": "code",
      "metadata": {
        "id": "EiK4DWPx31jX",
        "colab": {
          "base_uri": "https://localhost:8080/"
        },
        "outputId": "47d0a13a-48dd-443b-a66b-950a8e9161a6"
      },
      "source": [
        "year = np.array([2012,2013,2014,2015,2016,2017,2018,2019,2020],dtype=float)\n",
        "cpi = np.array([27,25,27,26,28,27,27,26,25],dtype=float)\n",
        "for i,c in enumerate(year):\n",
        "  print(\"{} year = {} cpi\".format(c,cpi[i]))"
      ],
      "execution_count": 3,
      "outputs": [
        {
          "output_type": "stream",
          "name": "stdout",
          "text": [
            "2012.0 year = 27.0 cpi\n",
            "2013.0 year = 25.0 cpi\n",
            "2014.0 year = 27.0 cpi\n",
            "2015.0 year = 26.0 cpi\n",
            "2016.0 year = 28.0 cpi\n",
            "2017.0 year = 27.0 cpi\n",
            "2018.0 year = 27.0 cpi\n",
            "2019.0 year = 26.0 cpi\n",
            "2020.0 year = 25.0 cpi\n"
          ]
        }
      ]
    },
    {
      "cell_type": "code",
      "metadata": {
        "id": "12LzUrQb5EF6"
      },
      "source": [
        "l0 = tf.keras.layers.Dense(units=1,input_shape=[1])"
      ],
      "execution_count": 4,
      "outputs": []
    },
    {
      "cell_type": "code",
      "metadata": {
        "id": "bORG7tdz5RWm"
      },
      "source": [
        "model=tf.keras.Sequential([l0])\n"
      ],
      "execution_count": 5,
      "outputs": []
    },
    {
      "cell_type": "code",
      "metadata": {
        "id": "ElEkW_be5R9y"
      },
      "source": [
        "model.compile(loss='mean_squared_error',optimizer=tf.keras.optimizers.Adam(0.1))\n"
      ],
      "execution_count": 13,
      "outputs": []
    },
    {
      "cell_type": "code",
      "metadata": {
        "id": "i3Y-iiU4Imkm",
        "colab": {
          "base_uri": "https://localhost:8080/"
        },
        "outputId": "3240122f-3a8b-445e-aa84-63b5b1801b1d"
      },
      "source": [
        "history = model.fit(year,cpi,epochs=500,verbose=False)\n",
        "print(\"we are done training our model\")"
      ],
      "execution_count": 14,
      "outputs": [
        {
          "output_type": "stream",
          "name": "stdout",
          "text": [
            "we are done training our model\n"
          ]
        }
      ]
    },
    {
      "cell_type": "code",
      "metadata": {
        "id": "uj2PVce5JFja",
        "colab": {
          "base_uri": "https://localhost:8080/",
          "height": 296
        },
        "outputId": "553828d4-849f-4271-84a4-875c83f0efc7"
      },
      "source": [
        "import matplotlib.pyplot as plt\n",
        "plt.xlabel('Epoch Number')\n",
        "plt.ylabel('Loss Magnitude')\n",
        "plt.plot(history.history['loss'])"
      ],
      "execution_count": 15,
      "outputs": [
        {
          "output_type": "execute_result",
          "data": {
            "text/plain": [
              "[<matplotlib.lines.Line2D at 0x7f3592e7e8d0>]"
            ]
          },
          "metadata": {},
          "execution_count": 15
        },
        {
          "output_type": "display_data",
          "data": {
            "image/png": "[encoded data removed]",
            "text/plain": [
              "<Figure size 432x288 with 1 Axes>"
            ]
          },
          "metadata": {
            "needs_background": "light"
          }
        }
      ]
    },
    {
      "cell_type": "code",
      "metadata": {
        "id": "em1eOTNJJhB9",
        "colab": {
          "base_uri": "https://localhost:8080/"
        },
        "outputId": "9a7fc134-5fa4-41f2-a1eb-442f2c70d0b5"
      },
      "source": [
        "print(model.predict([2021]))"
      ],
      "execution_count": 16,
      "outputs": [
        {
          "output_type": "stream",
          "name": "stdout",
          "text": [
            "[[26.510544]]\n"
          ]
        }
      ]
    }
  ]
}